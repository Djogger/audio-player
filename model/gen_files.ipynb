{
 "cells": [
  {
   "cell_type": "code",
   "execution_count": 16,
   "id": "d2ba7e4a-79cd-4b7d-b5ce-7524ceaad88e",
   "metadata": {},
   "outputs": [],
   "source": [
    "import os\n",
    "import random\n",
    "import folders\n",
    "from pydub import AudioSegment"
   ]
  },
  {
   "cell_type": "code",
   "execution_count": 2,
   "id": "fd2f746f-6d3c-452d-8d47-3579b3ff80fc",
   "metadata": {},
   "outputs": [],
   "source": [
    "def match_target_amplitude(sound, target_dBFS, offset_dB=5):\n",
    "    change_in_dBFS = target_dBFS + offset_dB - sound.dBFS\n",
    "    return sound.apply_gain(change_in_dBFS)\n",
    "\n",
    "def get_random_noise_file(noise_folder):\n",
    "    noise_files = [f for f in os.listdir(noise_folder) if f.endswith('.wav')]\n",
    "    return os.path.join(noise_folder, random.choice(noise_files))"
   ]
  },
  {
   "cell_type": "code",
   "execution_count": 3,
   "id": "3ff2060c-e8b2-4e33-ac40-f1e8a9177342",
   "metadata": {},
   "outputs": [],
   "source": [
    "def remove_silence(sound, silence_thresh=-50.0, min_silence_len=100):\n",
    "    chunks = []\n",
    "    start_time = None\n",
    "    \n",
    "    for i in range(0, len(sound), min_silence_len):\n",
    "        segment = sound[i:i + min_silence_len]\n",
    "        if segment.dBFS > silence_thresh:\n",
    "            if start_time is None:\n",
    "                start_time = i\n",
    "        else:\n",
    "            if start_time is not None:\n",
    "                chunks.append(sound[start_time:i])\n",
    "                start_time = None\n",
    "\n",
    "    if start_time is not None:\n",
    "        chunks.append(sound[start_time:])\n",
    "\n",
    "    return sum(chunks) if chunks else AudioSegment.silent(duration=0)"
   ]
  },
  {
   "cell_type": "code",
   "execution_count": 18,
   "id": "7f102a37-b237-446b-8a52-b291ca07748b",
   "metadata": {},
   "outputs": [],
   "source": [
    "train_folder = folders.train_folder\n",
    "noise_folder = folders.noise_folder\n",
    "save_folder = folders.save_folder"
   ]
  },
  {
   "cell_type": "code",
   "execution_count": null,
   "id": "3e7823c9-1846-42d6-bee9-bb3d7ab50337",
   "metadata": {},
   "outputs": [],
   "source": [
    "train_audio = [file[2] for file in os.walk(train_folder)][0]\n",
    "count = 0\n",
    "\n",
    "for file_path in train_audio:\n",
    "    count += 1\n",
    "    clean_file = AudioSegment.from_wav(train_folder + file_path)\n",
    "    \n",
    "    clean_file = remove_silence(clean_file)\n",
    "    clean_file.apply_gain(-7)\n",
    "    \n",
    "    noise_file_path = get_random_noise_file(noise_folder)\n",
    "    noise_sound = AudioSegment.from_wav(noise_file_path)\n",
    "    noise_sound = remove_silence(noise_sound)\n",
    "\n",
    "    duration_clean_file = len(clean_file)\n",
    "    \n",
    "    extended_clean_file = clean_file\n",
    "    while extended_clean_file.duration_seconds < noise_sound.duration_seconds:\n",
    "        extended_clean_file += clean_file\n",
    "    \n",
    "    extended_clean_file = extended_clean_file[:len(noise_sound)]\n",
    "    \n",
    "    #extended_clean_file = match_target_amplitude(extended_clean_file, noise_sound.dBFS, offset_dB=5)\n",
    "    \n",
    "    combined = extended_clean_file.overlay(noise_sound)\n",
    "    print(1)\n",
    "    \n",
    "    combined.export(save_folder + f\"{count}.wav\", format=\"wav\")"
   ]
  }
 ],
 "metadata": {
  "kernelspec": {
   "display_name": "Python 3 (ipykernel)",
   "language": "python",
   "name": "python3"
  },
  "language_info": {
   "codemirror_mode": {
    "name": "ipython",
    "version": 3
   },
   "file_extension": ".py",
   "mimetype": "text/x-python",
   "name": "python",
   "nbconvert_exporter": "python",
   "pygments_lexer": "ipython3",
   "version": "3.8.19"
  }
 },
 "nbformat": 4,
 "nbformat_minor": 5
}
