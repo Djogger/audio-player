{
  "nbformat": 4,
  "nbformat_minor": 0,
  "metadata": {
    "colab": {
      "provenance": []
    },
    "kernelspec": {
      "name": "python3",
      "display_name": "Python 3"
    },
    "language_info": {
      "name": "python"
    }
  },
  "cells": [
    {
      "cell_type": "code",
      "execution_count": null,
      "metadata": {
        "id": "Di6aV1s3pYkS"
      },
      "outputs": [],
      "source": [
        "import torch\n",
        "import torch.nn as nn\n",
        "import numpy as np"
      ]
    },
    {
      "cell_type": "code",
      "source": [
        "class SincConv(nn.Module):\n",
        "    def __init__(self, out_channels, kernel_size, sample_rate):\n",
        "        super(SincConv, self).__init__()\n",
        "        self.out_channels = out_channels\n",
        "        self.kernel_size = kernel_size\n",
        "        self.sample_rate = sample_rate\n",
        "        self.band_pass = nn.Parameter(torch.Tensor(out_channels, 2))\n",
        "        self.init_kernels()\n",
        "\n",
        "    def init_kernels(self):\n",
        "        self.band_pass.data[:, 0] = torch.linspace(30, 300, self.out_channels)\n",
        "        self.band_pass.data[:, 1] = torch.linspace(3000, 8000, self.out_channels)\n",
        "\n",
        "    def forward(self, x):\n",
        "        filters = self.create_filters()\n",
        "        return nn.functional.conv1d(x, filters, stride=1, padding=self.kernel_size // 2)\n",
        "\n",
        "    def create_filters(self):\n",
        "        filters = torch.zeros(self.out_channels, 1, self.kernel_size)\n",
        "        for i in range(self.out_channels):\n",
        "            low, high = self.band_pass[i]\n",
        "            filters[i, 0, :] = self.sinc_filter(low, high)\n",
        "        return filters\n",
        "\n",
        "    def sinc_filter(self, low, high):\n",
        "        t = torch.linspace(-self.kernel_size // 2, self.kernel_size // 2, self.kernel_size)\n",
        "        t = t.detach().numpy()\n",
        "        sinc_filter = (np.sin(2 * np.pi * high.item() * t) - np.sin(2 * np.pi * low.item() * t)) / (np.pi * t)\n",
        "        sinc_filter[t == 0] = 2 * (high.item() - low.item())\n",
        "        window = 0.54 - 0.46 * np.cos(2 * np.pi * np.arange(self.kernel_size) / (self.kernel_size - 1))\n",
        "        return torch.from_numpy(sinc_filter * window).float()\n",
        "\n",
        "class BasicBlock(nn.Module):\n",
        "    def __init__(self, in_channels, out_channels, stride=1):\n",
        "        super(BasicBlock, self).__init__()\n",
        "        self.conv1 = nn.Conv1d(in_channels, out_channels, kernel_size=3, stride=stride, padding=1)\n",
        "        self.bn1 = nn.BatchNorm1d(out_channels)\n",
        "        self.relu = nn.ReLU(inplace=True)\n",
        "        self.conv2 = nn.Conv1d(out_channels, out_channels, kernel_size=3, padding=1)\n",
        "        self.bn2 = nn.BatchNorm1d(out_channels)\n",
        "\n",
        "    def forward(self, x):\n",
        "        residual = x\n",
        "        out = self.conv1(x)\n",
        "        out = self.bn1(out)\n",
        "        out = self.relu(out)\n",
        "        out = self.conv2(out)\n",
        "        out = self.bn2(out)\n",
        "        out += residual\n",
        "        out = self.relu(out)\n",
        "        return out\n",
        "\n",
        "class DeNoise(nn.Module):\n",
        "    def __init__(self, kernel_size, sample_rate, resnet_blocks, sinc_out_channels=20, gru_hidden_size=128, gru_layers=2):\n",
        "        super(DeNoise, self).__init__()\n",
        "        self.sinc_conv = SincConv(sinc_out_channels, kernel_size, sample_rate)\n",
        "        self.resnet_blocks = nn.Sequential(\n",
        "            *[BasicBlock(sinc_out_channels, sinc_out_channels) for _ in range(resnet_blocks)]\n",
        "        )\n",
        "        self.gru = nn.GRU(input_size=sinc_out_channels, hidden_size=gru_hidden_size, num_layers=gru_layers, batch_first=True, bidirectional=True)\n",
        "        self.fc = nn.Linear(gru_hidden_size * 2, sinc_out_channels)\n",
        "        self.output_conv = nn.Conv1d(sinc_out_channels, 1, kernel_size=1)\n",
        "\n",
        "    def forward(self, x):\n",
        "        x = self.sinc_conv(x)\n",
        "        x = self.resnet_blocks(x)\n",
        "        x = x.transpose(1, 2)\n",
        "        gru_out, _ = self.gru(x)\n",
        "        x = self.fc(gru_out)\n",
        "        x = x.transpose(1, 2)\n",
        "        x = self.output_conv(x)\n",
        "\n",
        "        return x"
      ],
      "metadata": {
        "id": "mQ71qG6Hplvg"
      },
      "execution_count": null,
      "outputs": []
    }
  ]
}